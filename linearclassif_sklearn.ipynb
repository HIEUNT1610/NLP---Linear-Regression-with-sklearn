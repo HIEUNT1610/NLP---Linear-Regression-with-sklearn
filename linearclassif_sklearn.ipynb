{
 "cells": [
  {
   "attachments": {},
   "cell_type": "markdown",
   "metadata": {},
   "source": [
    "This is an assignment on Linear Regression from the course Machine Learning for NLP at the University Paris Cite."
   ]
  },
  {
   "cell_type": "code",
   "execution_count": 1,
   "metadata": {},
   "outputs": [],
   "source": [
    "# Importing necessary libraries:\n",
    "from scipy import stats as st\n",
    "import matplotlib.pyplot as plt\n",
    "from math import *\n",
    "import numpy as np\n",
    "from time import time\n",
    "from sklearn import linear_model, svm\n",
    "from sklearn.metrics import accuracy_score, precision_score\n",
    "from sklearn.model_selection import GridSearchCV, KFold"
   ]
  },
  {
   "cell_type": "code",
   "execution_count": 2,
   "metadata": {},
   "outputs": [],
   "source": [
    "# Read the dataset from file and store in lists of documents and classes:\n",
    "def read_data(file):\n",
    "    # Open the file and read the lines:\n",
    "    data_stream = open(file)\n",
    "    # Initialize the lists and dicts:\n",
    "    X = []\n",
    "    y = []\n",
    "    while 1:\n",
    "        line = data_stream.readline()\n",
    "        line = line.strip()\n",
    "        if not line:\n",
    "            break\n",
    "        # Split the line into columns:\n",
    "        cols = line.split('\\t')\n",
    "        # Split the classes into a list to iterate over:\n",
    "        classes = cols[0].split(',')\n",
    "        for c in classes:\n",
    "            # Add the document and its class to the lists:\n",
    "            X.append(cols[1])\n",
    "            y.append(c)\n",
    "    return X, y\n",
    "\n",
    "def class_convert(y_train, y_test):\n",
    "    # Because I read data separately, I need to use another method to convert the classes to integers:\n",
    "    # Initialize the dicts:\n",
    "    c2i = {}\n",
    "    class_id = 0\n",
    "    train_id = []\n",
    "    test_id = []\n",
    "    for c in y_train:\n",
    "        if c not in c2i:\n",
    "            c2i[c] = class_id\n",
    "            class_id += 1\n",
    "        train_id.append(c2i[c])\n",
    "    for c in y_test:\n",
    "        if c not in c2i:\n",
    "            c2i[c] = class_id\n",
    "            class_id += 1\n",
    "        test_id.append(c2i[c])\n",
    "    return np.array(train_id), np.array(test_id)"
   ]
  },
  {
   "cell_type": "code",
   "execution_count": 3,
   "metadata": {},
   "outputs": [],
   "source": [
    "# Read the train and test data:\n",
    "X_train, y_train = read_data('medium.train.onedocperline')\n",
    "X_test, y_test = read_data('medium.test.onedocperline')\n",
    "y_train, y_test = class_convert(y_train, y_test)"
   ]
  },
  {
   "cell_type": "code",
   "execution_count": 4,
   "metadata": {},
   "outputs": [],
   "source": [
    "# Vectorizing the datasets:\n",
    "from sklearn.feature_extraction.text import TfidfVectorizer\n",
    "vectorizer = TfidfVectorizer()\n",
    "# Fit_transform the train data and transform the test data:\n",
    "X_train = vectorizer.fit_transform(X_train)\n",
    "X_test = vectorizer.transform(X_test)"
   ]
  },
  {
   "cell_type": "code",
   "execution_count": 5,
   "metadata": {},
   "outputs": [
    {
     "name": "stdout",
     "output_type": "stream",
     "text": [
      "The accuracy on the train set is: 76.41%\n",
      "The accuracy on the test set is: 63.53%\n"
     ]
    }
   ],
   "source": [
    "# Load the perceptron model:\n",
    "clf = linear_model.Perceptron(shuffle = True, random_state = 42)\n",
    "# Fit the model on the train data:\n",
    "clf.fit(X_train, y_train)\n",
    "# Score the model on the train and test data. Using accuracy_score returns the same results as clf.score:\n",
    "print(f\"The accuracy on the train set is: {accuracy_score(y_train, clf.predict(X_train)):.2%}\")\n",
    "print(f\"The accuracy on the test set is: {accuracy_score(y_test, clf.predict(X_test)):.2%}\")"
   ]
  },
  {
   "cell_type": "code",
   "execution_count": 6,
   "metadata": {},
   "outputs": [
    {
     "name": "stdout",
     "output_type": "stream",
     "text": [
      "(255,)\n",
      "(2535,)\n",
      "[22  1 31 32 22  1 38  3 21 51 40  7 42 20  7 42 86 19 40  1  2 47 16 51\n",
      " 35 36 16 17 62 22 38 30 29  1  3 13 12 15 15 35 36 22 37 68 79 16 69 15]\n",
      "[22 39 31 31 93 93 93 93 93 93 93 42 42 20 19 19 19 19 19  1  1 27 36 16\n",
      " 36 36 92 92 62 36 36 36 36 36 36 36 36 36 15 36 36 22 22 34 34 47 34 15]\n"
     ]
    }
   ],
   "source": [
    "# The accuracy is high, but it seems that the prediction is always the same class. Let's check:\n",
    "print(y_test.shape)\n",
    "print(y_train.shape)\n",
    "print(y_test[0:48])\n",
    "print(clf.predict(X_test)[0:48])"
   ]
  },
  {
   "cell_type": "code",
   "execution_count": 7,
   "metadata": {},
   "outputs": [
    {
     "name": "stdout",
     "output_type": "stream",
     "text": [
      "The precision on the train set is: 45.07%\n",
      "The precision on the test set is: 26.08%\n"
     ]
    }
   ],
   "source": [
    "# We can measure the precision of the model instead:\n",
    "print(f\"The precision on the train set is: {precision_score(y_train, clf.predict(X_train), average = 'macro', zero_division = 0):.2%}\")\n",
    "print(f\"The precision on the test set is: {precision_score(y_test, clf.predict(X_test), average = 'macro', zero_division = 0):.2%}\")"
   ]
  },
  {
   "cell_type": "code",
   "execution_count": 8,
   "metadata": {},
   "outputs": [
    {
     "name": "stdout",
     "output_type": "stream",
     "text": [
      "The accuracy on the train set is: 78.86%\n",
      "The accuracy on the test set is: 70.98%\n"
     ]
    }
   ],
   "source": [
    "# Load the SVM model:\n",
    "clf = svm.LinearSVC(random_state = 42)\n",
    "clf.fit(X_train, y_train)\n",
    "print(f\"The accuracy on the train set is: {accuracy_score(y_train, clf.predict(X_train)):.2%}\")\n",
    "print(f\"The accuracy on the test set is: {accuracy_score(y_test, clf.predict(X_test)):.2%}\")"
   ]
  },
  {
   "cell_type": "code",
   "execution_count": 9,
   "metadata": {},
   "outputs": [
    {
     "name": "stdout",
     "output_type": "stream",
     "text": [
      "The precision on the train set is: 41.43%\n",
      "The precision on the test set is: 35.76%\n"
     ]
    }
   ],
   "source": [
    "# We can measure the precision of the model instead:\n",
    "print(f\"The precision on the train set is: {precision_score(y_train, clf.predict(X_train), average = 'macro', zero_division = 0):.2%}\")\n",
    "print(f\"The precision on the test set is: {precision_score(y_test, clf.predict(X_test), average = 'macro', zero_division = 0):.2%}\")"
   ]
  },
  {
   "cell_type": "code",
   "execution_count": 12,
   "metadata": {},
   "outputs": [
    {
     "name": "stderr",
     "output_type": "stream",
     "text": [
      "e:\\Python\\local\\lib\\site-packages\\sklearn\\model_selection\\_split.py:700: UserWarning: The least populated class in y has only 1 members, which is less than n_splits=5.\n",
      "  warnings.warn(\n",
      "e:\\Python\\local\\lib\\site-packages\\sklearn\\svm\\_base.py:1244: ConvergenceWarning: Liblinear failed to converge, increase the number of iterations.\n",
      "  warnings.warn(\n",
      "e:\\Python\\local\\lib\\site-packages\\sklearn\\svm\\_base.py:1244: ConvergenceWarning: Liblinear failed to converge, increase the number of iterations.\n",
      "  warnings.warn(\n",
      "e:\\Python\\local\\lib\\site-packages\\sklearn\\svm\\_base.py:1244: ConvergenceWarning: Liblinear failed to converge, increase the number of iterations.\n",
      "  warnings.warn(\n",
      "e:\\Python\\local\\lib\\site-packages\\sklearn\\svm\\_base.py:1244: ConvergenceWarning: Liblinear failed to converge, increase the number of iterations.\n",
      "  warnings.warn(\n",
      "e:\\Python\\local\\lib\\site-packages\\sklearn\\svm\\_base.py:1244: ConvergenceWarning: Liblinear failed to converge, increase the number of iterations.\n",
      "  warnings.warn(\n",
      "e:\\Python\\local\\lib\\site-packages\\sklearn\\svm\\_base.py:1244: ConvergenceWarning: Liblinear failed to converge, increase the number of iterations.\n",
      "  warnings.warn(\n",
      "e:\\Python\\local\\lib\\site-packages\\sklearn\\svm\\_base.py:1244: ConvergenceWarning: Liblinear failed to converge, increase the number of iterations.\n",
      "  warnings.warn(\n",
      "e:\\Python\\local\\lib\\site-packages\\sklearn\\svm\\_base.py:1244: ConvergenceWarning: Liblinear failed to converge, increase the number of iterations.\n",
      "  warnings.warn(\n",
      "e:\\Python\\local\\lib\\site-packages\\sklearn\\svm\\_base.py:1244: ConvergenceWarning: Liblinear failed to converge, increase the number of iterations.\n",
      "  warnings.warn(\n",
      "e:\\Python\\local\\lib\\site-packages\\sklearn\\svm\\_base.py:1244: ConvergenceWarning: Liblinear failed to converge, increase the number of iterations.\n",
      "  warnings.warn(\n"
     ]
    },
    {
     "name": "stdout",
     "output_type": "stream",
     "text": [
      "Done in 1681829160.658s\n"
     ]
    }
   ],
   "source": [
    "# Use GridSearchCV to find the best parameters for the SVM model:\n",
    "parameters = {'multi_class':('ovr', 'crammer_singer'), 'C':[1, 10]}\n",
    "svc = svm.LinearSVC(random_state=42, max_iter=10000)\n",
    "clf = GridSearchCV(svc, parameters)\n",
    " # type: ignoret0 = time()\n",
    "clf.fit(X_train, y_train)\n"
   ]
  },
  {
   "cell_type": "code",
   "execution_count": 13,
   "metadata": {},
   "outputs": [
    {
     "name": "stdout",
     "output_type": "stream",
     "text": [
      "The best parameters are: {'C': 10, 'multi_class': 'ovr'}\n",
      "The precision on the train set is: 42.16%\n",
      "The precision on the test set is: 35.86%\n"
     ]
    }
   ],
   "source": [
    "# Print the best parameters and the accuracy on the train and test sets:\n",
    "print(f\"The best parameters are: {clf.best_params_}\")\n",
    "print(f\"The precision on the train set is: {precision_score(y_train, clf.predict(X_train), average = 'macro', zero_division = 0):.2%}\")\n",
    "print(f\"The precision on the test set is: {precision_score(y_test, clf.predict(X_test), average = 'macro', zero_division = 0):.2%}\")\n"
   ]
  },
  {
   "cell_type": "code",
   "execution_count": 15,
   "metadata": {},
   "outputs": [
    {
     "name": "stderr",
     "output_type": "stream",
     "text": [
      "e:\\Python\\local\\lib\\site-packages\\sklearn\\svm\\_base.py:1244: ConvergenceWarning: Liblinear failed to converge, increase the number of iterations.\n",
      "  warnings.warn(\n",
      "e:\\Python\\local\\lib\\site-packages\\sklearn\\svm\\_base.py:1244: ConvergenceWarning: Liblinear failed to converge, increase the number of iterations.\n",
      "  warnings.warn(\n",
      "e:\\Python\\local\\lib\\site-packages\\sklearn\\svm\\_base.py:1244: ConvergenceWarning: Liblinear failed to converge, increase the number of iterations.\n",
      "  warnings.warn(\n",
      "e:\\Python\\local\\lib\\site-packages\\sklearn\\svm\\_base.py:1244: ConvergenceWarning: Liblinear failed to converge, increase the number of iterations.\n",
      "  warnings.warn(\n",
      "e:\\Python\\local\\lib\\site-packages\\sklearn\\svm\\_base.py:1244: ConvergenceWarning: Liblinear failed to converge, increase the number of iterations.\n",
      "  warnings.warn(\n",
      "e:\\Python\\local\\lib\\site-packages\\sklearn\\svm\\_base.py:1244: ConvergenceWarning: Liblinear failed to converge, increase the number of iterations.\n",
      "  warnings.warn(\n",
      "e:\\Python\\local\\lib\\site-packages\\sklearn\\svm\\_base.py:1244: ConvergenceWarning: Liblinear failed to converge, increase the number of iterations.\n",
      "  warnings.warn(\n",
      "e:\\Python\\local\\lib\\site-packages\\sklearn\\svm\\_base.py:1244: ConvergenceWarning: Liblinear failed to converge, increase the number of iterations.\n",
      "  warnings.warn(\n",
      "e:\\Python\\local\\lib\\site-packages\\sklearn\\svm\\_base.py:1244: ConvergenceWarning: Liblinear failed to converge, increase the number of iterations.\n",
      "  warnings.warn(\n",
      "e:\\Python\\local\\lib\\site-packages\\sklearn\\svm\\_base.py:1244: ConvergenceWarning: Liblinear failed to converge, increase the number of iterations.\n",
      "  warnings.warn(\n"
     ]
    },
    {
     "name": "stdout",
     "output_type": "stream",
     "text": [
      "Done in 101.860s\n"
     ]
    },
    {
     "name": "stderr",
     "output_type": "stream",
     "text": [
      "e:\\Python\\local\\lib\\site-packages\\sklearn\\svm\\_base.py:1244: ConvergenceWarning: Liblinear failed to converge, increase the number of iterations.\n",
      "  warnings.warn(\n"
     ]
    }
   ],
   "source": [
    "# Using cross validation:\n",
    "parameters = {'multi_class':('ovr', 'crammer_singer'), 'C':[1, 10]}\n",
    "svc = svm.LinearSVC(random_state=42)\n",
    "clf = GridSearchCV(svc, parameters, scoring = 'accuracy', cv = KFold(n_splits = 5, shuffle = True, random_state = 42))\n",
    "clf.fit(X_train, y_train)\n"
   ]
  },
  {
   "cell_type": "code",
   "execution_count": 16,
   "metadata": {},
   "outputs": [
    {
     "name": "stdout",
     "output_type": "stream",
     "text": [
      "The best parameters are: {'C': 1, 'multi_class': 'crammer_singer'}\n",
      "The precision on the train set is: 43.36%\n",
      "The precision on the test set is: 34.87%\n"
     ]
    }
   ],
   "source": [
    "# Print the best parameters and the accuracy:\n",
    "print(f\"The best parameters are: {clf.best_params_}\")\n",
    "print(f\"The precision on the train set is: {precision_score(y_train, clf.predict(X_train), average = 'macro', zero_division = 0):.2%}\")\n",
    "print(f\"The precision on the test set is: {precision_score(y_test, clf.predict(X_test), average = 'macro', zero_division = 0):.2%}\")"
   ]
  }
 ],
 "metadata": {
  "kernelspec": {
   "display_name": "local",
   "language": "python",
   "name": "python3"
  },
  "language_info": {
   "codemirror_mode": {
    "name": "ipython",
    "version": 3
   },
   "file_extension": ".py",
   "mimetype": "text/x-python",
   "name": "python",
   "nbconvert_exporter": "python",
   "pygments_lexer": "ipython3",
   "version": "3.10.11"
  },
  "orig_nbformat": 4,
  "vscode": {
   "interpreter": {
    "hash": "aca542c5b9829747dc5df24047f1ee80435073a11f8e7711844b8ed0e49cea0c"
   }
  }
 },
 "nbformat": 4,
 "nbformat_minor": 2
}
